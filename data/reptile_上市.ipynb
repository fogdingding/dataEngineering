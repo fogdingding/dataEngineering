{
 "cells": [
  {
   "cell_type": "code",
   "execution_count": 5,
   "metadata": {},
   "outputs": [],
   "source": [
    "# -*- coding: utf-8 -*\n",
    "from bs4 import BeautifulSoup\n",
    "import requests"
   ]
  },
  {
   "cell_type": "code",
   "execution_count": 6,
   "metadata": {},
   "outputs": [],
   "source": [
    "def find_html_td_text(bs4_html_tr):\n",
    "    bs4_html_td_list = []\n",
    "    app = bs4_html_tr.find_all('td')\n",
    "    for i in range (len(app)):\n",
    "        bs4_html_td_list.append(app[i].get_text().split())\n",
    "    return bs4_html_td_list"
   ]
  },
  {
   "cell_type": "code",
   "execution_count": 7,
   "metadata": {},
   "outputs": [],
   "source": [
    "def get_array_list_to_string(array_list):\n",
    "    test = array_list\n",
    "    string=\"\"\n",
    "    for i in range(len(test)):\n",
    "        locals()[\"str%s\" %i] = ' '.join(test[i])\n",
    "    for i in range(len(test)):\n",
    "        if( i == len(test)-1):\n",
    "            string += locals()[\"str%s\" %i]\n",
    "        elif( test[i] == []):\n",
    "            string += locals()[\"str%s\" %i]\n",
    "        else:\n",
    "            string += locals()[\"str%s\" %i]+\" \"\n",
    "    return string"
   ]
  },
  {
   "cell_type": "code",
   "execution_count": 8,
   "metadata": {},
   "outputs": [],
   "source": [
    "result = requests.get(\"http://isin.twse.com.tw/isin/C_public.jsp?strMode=2\")\n",
    "result.encoding = 'big5'\n",
    "soup = BeautifulSoup(result.text, 'html.parser')"
   ]
  },
  {
   "cell_type": "code",
   "execution_count": 9,
   "metadata": {},
   "outputs": [],
   "source": [
    "app=[]\n",
    "for link in soup.find_all('table'):\n",
    "    for index, link2 in enumerate( link.find_all('tr') ):\n",
    "        app.append(find_html_td_text(link2))\n",
    "        if (app[index] == [['上市認購(售)權證']]):\n",
    "            break\n",
    "#931\n",
    "#929"
   ]
  },
  {
   "cell_type": "code",
   "execution_count": 53,
   "metadata": {},
   "outputs": [
    {
     "data": {
      "text/plain": [
       "'股票'"
      ]
     },
     "execution_count": 53,
     "metadata": {},
     "output_type": "execute_result"
    }
   ],
   "source": [
    "app2=[]\n",
    "for link in app:\n",
    "    app2.append(get_array_list_to_string(link))\n",
    "app2.pop(-1)\n",
    "app2.pop(1)"
   ]
  },
  {
   "cell_type": "code",
   "execution_count": 55,
   "metadata": {},
   "outputs": [],
   "source": [
    "import csv\n",
    "\n",
    "with open('output.ssv', 'w', newline='' , encoding=\"utf-8\") as f:\n",
    "    for item in app2:\n",
    "        f.write(\"%s\\n\" % item)"
   ]
  },
  {
   "cell_type": "code",
   "execution_count": null,
   "metadata": {},
   "outputs": [],
   "source": []
  }
 ],
 "metadata": {
  "kernelspec": {
   "display_name": "Python 3",
   "language": "python",
   "name": "python3"
  },
  "language_info": {
   "codemirror_mode": {
    "name": "ipython",
    "version": 3
   },
   "file_extension": ".py",
   "mimetype": "text/x-python",
   "name": "python",
   "nbconvert_exporter": "python",
   "pygments_lexer": "ipython3",
   "version": "3.7.1"
  }
 },
 "nbformat": 4,
 "nbformat_minor": 2
}
