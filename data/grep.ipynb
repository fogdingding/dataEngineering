{
 "cells": [
  {
   "cell_type": "code",
   "execution_count": 16,
   "metadata": {},
   "outputs": [],
   "source": [
    "def string_match_boyer_moore(string,match,start=0):\n",
    "    string_len = len(string)\n",
    "    match_len  = len(match)\n",
    "    end = match_len - 1\n",
    "    if string_len < match_len:\n",
    "        return start;\n",
    "    while string[end] == match[end]:\n",
    "        end -= 1\n",
    "        if end == 0:\n",
    "            return ('yes')\n",
    "    idx = contain_char(match,string[end])\n",
    "    shift = match_len\n",
    "    if idx > -1:\n",
    "        shift = end - idx\n",
    "    start += shift\n",
    "    string_match_boyer_moore(string[shift:],match,start)\n",
    "\n",
    "def contain_char(s,c):\n",
    "   for i in range(len(s)):\n",
    "      if c == s[i]:\n",
    "          return i\n",
    "   return -1"
   ]
  },
  {
   "cell_type": "code",
   "execution_count": 34,
   "metadata": {},
   "outputs": [],
   "source": [
    "def grep(file_path,match_string):\n",
    "    app=[]\n",
    "    with open(file_path,encoding=\"utf-8\") as f_ssv:\n",
    "        for line in f_ssv:\n",
    "            line_string = line\n",
    "            if (string_match_boyer_moore(line_string,match_string) == 'yes'):\n",
    "                app.append(line.strip())\n",
    "    return app"
   ]
  },
  {
   "cell_type": "code",
   "execution_count": 35,
   "metadata": {},
   "outputs": [],
   "source": [
    "a = grep('./output.ssv','110')"
   ]
  },
  {
   "cell_type": "code",
   "execution_count": 36,
   "metadata": {},
   "outputs": [
    {
     "data": {
      "text/plain": [
       "['1101 台泥 TW0001101004 1962/02/09 上市 水泥工業 ESVUFR',\n",
       " '1102 亞泥 TW0001102002 1962/06/08 上市 水泥工業 ESVUFR',\n",
       " '1103 嘉泥 TW0001103000 1969/11/14 上市 水泥工業 ESVUFR',\n",
       " '1104 環泥 TW0001104008 1971/02/01 上市 水泥工業 ESVUFR',\n",
       " '1108 幸福 TW0001108009 1990/06/06 上市 水泥工業 ESVUFR',\n",
       " '1109 信大 TW0001109007 1991/12/05 上市 水泥工業 ESVUFR',\n",
       " '2101 南港 TW0002101003 1963/11/01 上市 橡膠工業 ESVUFR',\n",
       " '2102 泰豐 TW0002102001 1979/07/16 上市 橡膠工業 ESVUFR',\n",
       " '2103 台橡 TW0002103009 1982/09/25 上市 橡膠工業 ESVUFR',\n",
       " '2104 國際中橡 TW0002104007 1986/07/15 上市 橡膠工業 ESVUFR',\n",
       " '2105 正新 TW0002105004 1987/12/07 上市 橡膠工業 ESVUFR',\n",
       " '2106 建大 TW0002106002 1990/12/20 上市 橡膠工業 ESVUFR',\n",
       " '2107 厚生 TW0002107000 1992/03/03 上市 橡膠工業 ESVUFR',\n",
       " '2108 南帝 TW0002108008 1992/10/27 上市 橡膠工業 ESVUFR',\n",
       " '2109 華豐 TW0002109006 2000/05/08 上市 橡膠工業 ESVUFR',\n",
       " '4104 佳醫 TW0004104005 2007/12/31 上市 生技醫療業 ESVUFR',\n",
       " '4106 雃博 TW0004106000 2004/11/08 上市 生技醫療業 ESVUFR',\n",
       " '4108 懷特 TW0004108006 2008/07/16 上市 生技醫療業 ESVUFR',\n",
       " '6108 競國 TW0006108004 2008/12/30 上市 電子零組件業 ESVUFR',\n",
       " '8101 華冠 TW0008101007 2004/07/01 上市 通信網路業 ESVUFR',\n",
       " '8103 瀚荃 TW0008103003 2009/09/29 上市 電子零組件業 ESVUFR',\n",
       " '8105 凌巨 TW0008105008 2006/12/27 上市 光電業 ESVUFR']"
      ]
     },
     "execution_count": 36,
     "metadata": {},
     "output_type": "execute_result"
    }
   ],
   "source": [
    "a"
   ]
  }
 ],
 "metadata": {
  "kernelspec": {
   "display_name": "Python 3",
   "language": "python",
   "name": "python3"
  },
  "language_info": {
   "codemirror_mode": {
    "name": "ipython",
    "version": 3
   },
   "file_extension": ".py",
   "mimetype": "text/x-python",
   "name": "python",
   "nbconvert_exporter": "python",
   "pygments_lexer": "ipython3",
   "version": "3.7.1"
  }
 },
 "nbformat": 4,
 "nbformat_minor": 2
}
